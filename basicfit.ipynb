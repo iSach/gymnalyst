{
 "cells": [
  {
   "cell_type": "code",
   "execution_count": null,
   "metadata": {},
   "outputs": [],
   "source": [
    "# If running on Colab, do not forget to install Calmap by running this cell.\n",
    "!pip install calmap"
   ]
  },
  {
   "cell_type": "code",
   "execution_count": null,
   "metadata": {},
   "outputs": [],
   "source": [
    "import json\n",
    "import pandas as pd\n",
    "import matplotlib.pyplot as plt\n",
    "from matplotlib.colors import ListedColormap\n",
    "import calmap\n",
    "import numpy as np"
   ]
  },
  {
   "cell_type": "markdown",
   "metadata": {},
   "source": [
    "### Load Your Data\n",
    "\n",
    "Download your data [here](http://my.basic-fit.com/information).\n",
    "\n",
    "Load your data here. It is then filtered to remove duplicates, such as entrance scanners or inviting a friend. \n",
    "\n",
    "These erroneously appear as multiple entries for the same person."
   ]
  },
  {
   "cell_type": "code",
   "execution_count": null,
   "metadata": {},
   "outputs": [],
   "source": [
    "my_file = 'my-basic-fit-data.json'"
   ]
  },
  {
   "cell_type": "code",
   "execution_count": null,
   "metadata": {},
   "outputs": [],
   "source": [
    "with open(my_file) as f:\n",
    "    data = json.load(f)\n",
    "data['visits']\n",
    "data = pd.DataFrame(data['visits'])\n",
    "data['datetime'] = pd.to_datetime(data['date'] + ' ' + data['time'], format='%d-%m-%Y %H:%M')\n",
    "data['datetime'] = data['datetime'].dt.tz_localize('UTC').dt.tz_convert('Europe/Brussels')\n",
    "data = data[~(data['datetime'].sort_values().diff() <= pd.Timedelta(minutes=90))]\n",
    "data = data.set_index('datetime').drop(['date', 'time'], axis=1)"
   ]
  },
  {
   "cell_type": "markdown",
   "metadata": {},
   "source": [
    "You can remove some clubs if required."
   ]
  },
  {
   "cell_type": "code",
   "execution_count": null,
   "metadata": {},
   "outputs": [],
   "source": [
    "clubs_to_remove = [\n",
    "    'Basic-Fit Perpignan Boulevard Saint-Assiscle',\n",
    "    'Basic-Fit Lyon Rue Marius Berliet',\n",
    "    'Basic-Fit Venissieux Route de Vienne',\n",
    "]"
   ]
  },
  {
   "cell_type": "code",
   "execution_count": null,
   "metadata": {},
   "outputs": [],
   "source": [
    "data = data[~data['club'].isin(clubs_to_remove)]"
   ]
  },
  {
   "cell_type": "markdown",
   "metadata": {},
   "source": [
    "### Visits per Club"
   ]
  },
  {
   "cell_type": "code",
   "execution_count": null,
   "metadata": {},
   "outputs": [],
   "source": [
    "fig, ax = plt.subplots(figsize=(15, 7))\n",
    "data['club'].apply(lambda x: x.removeprefix('Basic-Fit ')).value_counts().plot(ax=ax, kind='barh')\n",
    "ax.set_ylabel('')\n",
    "# Write next to each bar how many times it was visited\n",
    "for i, v in enumerate(data['club'].value_counts()):\n",
    "    ax.text(v + 1.5, i - 0.05, str(v), color='black', fontweight='bold', fontdict={'size': 14})"
   ]
  },
  {
   "cell_type": "markdown",
   "metadata": {},
   "source": [
    "### Visits per Day and Year"
   ]
  },
  {
   "cell_type": "code",
   "execution_count": null,
   "metadata": {},
   "outputs": [],
   "source": [
    "data_perday = data.groupby(pd.Grouper(freq='1D')).agg({'club': 'count'})['club']\n",
    "min_visits, max_visits = data_perday.min(), data_perday.max()\n",
    "data_perday.index = data_perday.index.date\n",
    "data_perday.index = pd.to_datetime(data_perday.index)\n",
    "num_years = data_perday.index.year.nunique()\n",
    "fig, ax = plt.subplots(nrows=num_years, ncols=1, figsize=(num_years * 20, 7))\n",
    "fig.subplots_adjust(hspace=0.4)\n",
    "print(f\"Total visits: {data_perday.sum()}\")\n",
    "print(f\"Total days with >1 visits: {data_perday[data_perday > 1].count()}\")\n",
    "# Count number of weeks\n",
    "num_weeks = data_perday.index.isocalendar().week.groupby(data_perday.index.year).nunique().sum()\n",
    "print(f\"Average weekly visits: {data_perday.sum() / num_weeks:.2f} ({data_perday.sum()} over {num_weeks} weeks)\")\n",
    "# Longest Streak of active days, and longest streak of inactive days\n",
    "streak_active = 0\n",
    "max_streak_active = 0\n",
    "max_streak_active_day = None\n",
    "streak_inactive = 0\n",
    "max_streak_inactive = 0\n",
    "max_streak_inactive_day = None\n",
    "for i, v in enumerate(data_perday):\n",
    "    if v > 0:\n",
    "        streak_active += 1\n",
    "        if streak_inactive > max_streak_inactive:\n",
    "            max_streak_inactive = streak_inactive\n",
    "            max_streak_inactive_day = data_perday.index[i] - pd.Timedelta(days=max_streak_inactive)\n",
    "        streak_inactive = 0\n",
    "    else:\n",
    "        streak_inactive += 1\n",
    "        if streak_active > max_streak_active:\n",
    "            max_streak_active = streak_active\n",
    "            max_streak_active_day = data_perday.index[i] - pd.Timedelta(days=max_streak_active)\n",
    "        streak_active = 0\n",
    "if streak_active > max_streak_active:\n",
    "    max_streak_active = streak_active\n",
    "    max_streak_active_day = data_perday.index[i] - pd.Timedelta(days=max_streak_active)\n",
    "if streak_inactive > max_streak_inactive:\n",
    "    max_streak_inactive = streak_inactive\n",
    "    max_streak_inactive_day = data_perday.index[i] - pd.Timedelta(days=max_streak_inactive)\n",
    "print(f\"Longest streak: {max_streak_active} days. Starts on {max_streak_active_day.__format__('%d-%m-%Y')}\")\n",
    "print(f\"Longest inactivity streak: {max_streak_inactive} days. Starts on {max_streak_inactive_day.__format__('%d-%m-%Y')}\")\n",
    "print(\"------------------------------\")\n",
    "year_range = range(data.index.year.min(), data.index.year.max() + 1)\n",
    "for i, year in enumerate(year_range):\n",
    "    data_y = data_perday[data_perday.index.year == year]\n",
    "    num_active_weeks = data_y.index.isocalendar().week.nunique()\n",
    "    print(f\"Visits in {year}: {data_y.sum()} (~{data_y.sum() / num_active_weeks:.2f}x per week)\")\n",
    "    \n",
    "    calmap.yearplot(\n",
    "        data_perday,\n",
    "        year=year,\n",
    "        ax=ax[i],\n",
    "        cmap=ListedColormap([u'whitesmoke', '#40A2D8', '#0B60B0', '#11235A'][:max_visits + 1]),\n",
    "        daylabels='LMMJVSD',\n",
    "        vmin=data_perday.min(),\n",
    "        vmax=data_perday.max(),\n",
    "    )\n",
    "    ax[i].text(-0.035, 0.3, year, transform=ax[i].transAxes, rotation=90, fontdict={'size': 17})\n",
    "plt.show()"
   ]
  },
  {
   "cell_type": "code",
   "execution_count": null,
   "metadata": {},
   "outputs": [],
   "source": [
    "# Show double visits\n",
    "\n",
    "data_perday[data_perday > 1]\n",
    "for date in data_perday[data_perday > 1].index:\n",
    "    s = f\"{date.year}-{date.month:02d}-{date.day:02d}\"\n",
    "    print(data[data.index.date == np.datetime64(s)].to_csv(sep='\\t', index=True))"
   ]
  }
 ],
 "metadata": {
  "kernelspec": {
   "display_name": "Python 3",
   "language": "python",
   "name": "python3"
  },
  "language_info": {
   "codemirror_mode": {
    "name": "ipython",
    "version": 3
   },
   "file_extension": ".py",
   "mimetype": "text/x-python",
   "name": "python",
   "nbconvert_exporter": "python",
   "pygments_lexer": "ipython3",
   "version": "3.10.13"
  }
 },
 "nbformat": 4,
 "nbformat_minor": 2
}
